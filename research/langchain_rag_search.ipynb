{
 "cells": [
  {
   "cell_type": "code",
   "execution_count": 1,
   "metadata": {},
   "outputs": [
    {
     "data": {
      "text/plain": [
       "True"
      ]
     },
     "execution_count": 1,
     "metadata": {},
     "output_type": "execute_result"
    }
   ],
   "source": [
    "from dotenv import load_dotenv\n",
    "from langchain_openai import ChatOpenAI\n",
    "from langchain_anthropic import ChatAnthropic\n",
    "from langchain_ollama.llms import OllamaLLM\n",
    "from langchain_community.vectorstores import DocArrayInMemorySearch\n",
    "from langchain_core.output_parsers import StrOutputParser\n",
    "from langchain_core.prompts import ChatPromptTemplate\n",
    "from langchain_core.runnables import RunnableParallel, RunnablePassthrough\n",
    "from langchain_openai import OpenAIEmbeddings\n",
    "\n",
    "import os\n",
    "load_dotenv()"
   ]
  },
  {
   "cell_type": "markdown",
   "metadata": {},
   "source": [
    "# Setup Model"
   ]
  },
  {
   "cell_type": "code",
   "execution_count": 2,
   "metadata": {},
   "outputs": [],
   "source": [
    "# model = ChatOpenAI(model='gpt-3.5-turbo-0125')\n",
    "# model = ChatAnthropic(model='claude-2.1', api_key=os.environ.get('ANTHROPIC_API_KEY'))\n",
    "# model = OllamaLLM(model=\"llama3.2\")\n",
    "model = OllamaLLM(model=\"qwen2.5-coder\")"
   ]
  },
  {
   "cell_type": "markdown",
   "metadata": {},
   "source": [
    "# Setup Vectorstore for Embeddings"
   ]
  },
  {
   "cell_type": "code",
   "execution_count": 3,
   "metadata": {},
   "outputs": [],
   "source": [
    "vectorstore = DocArrayInMemorySearch.from_texts(\n",
    "    [\"harrison worked at kensho\", \"bears like to eat honey\"],\n",
    "    embedding=OpenAIEmbeddings(),\n",
    ")\n",
    "retriever = vectorstore.as_retriever()\n",
    "setup_and_retrieval = RunnableParallel(\n",
    "    {\"context\": retriever, \"question\": RunnablePassthrough()}\n",
    ")"
   ]
  },
  {
   "cell_type": "markdown",
   "metadata": {},
   "source": [
    "# Setup Prompt"
   ]
  },
  {
   "cell_type": "code",
   "execution_count": 4,
   "metadata": {},
   "outputs": [],
   "source": [
    "# template = \"\"\"Answer the question based only on the following context:\n",
    "template = \"\"\"Answer the question using the following context if it is helpful:\n",
    "{context}\n",
    "\n",
    "Question: {question}\n",
    "\"\"\"\n",
    "prompt = ChatPromptTemplate.from_template(template)"
   ]
  },
  {
   "cell_type": "markdown",
   "metadata": {},
   "source": [
    "# Setup Output Parser"
   ]
  },
  {
   "cell_type": "code",
   "execution_count": 5,
   "metadata": {},
   "outputs": [],
   "source": [
    "output_parser = StrOutputParser()"
   ]
  },
  {
   "cell_type": "markdown",
   "metadata": {},
   "source": [
    "# Chain it all together"
   ]
  },
  {
   "cell_type": "code",
   "execution_count": 9,
   "metadata": {},
   "outputs": [],
   "source": [
    "chain = setup_and_retrieval | prompt | model | output_parser\n",
    "\n",
    "response = chain.invoke(\"Write a python application with an asyncronous main body loop\")\n",
    "# chain.invoke(\"where did harrison work?\")"
   ]
  },
  {
   "cell_type": "code",
   "execution_count": null,
   "metadata": {},
   "outputs": [],
   "source": [
    "# chain.batch([\"ice cream\", \"spaghetti\", \"dumplings\"])"
   ]
  },
  {
   "cell_type": "code",
   "execution_count": null,
   "metadata": {},
   "outputs": [],
   "source": [
    "# for chunk in chain.stream(\"ice cream\"):\n",
    "#     print(chunk, end=\"\", flush=True)"
   ]
  },
  {
   "cell_type": "code",
   "execution_count": 10,
   "metadata": {},
   "outputs": [
    {
     "data": {
      "text/plain": [
       "'Certainly! Below is a Python application that uses an asynchronous `main` body loop. This example demonstrates how you can structure your code to use asynchronous programming using the `asyncio` library.\\n\\n```python\\nimport asyncio\\n\\n# Define an asynchronous function for simulating some work (e.g., processing data)\\nasync def process_data():\\n    print(\"Processing data...\")\\n    await asyncio.sleep(1)  # Simulate a blocking operation with sleep\\n    print(\"Data processed\")\\n\\n# Define another asynchronous function for fetching data (e.g., from an API)\\nasync def fetch_data():\\n    print(\"Fetching data...\")\\n    await asyncio.sleep(2)  # Simulate a longer blocking operation with sleep\\n    print(\"Data fetched\")\\n\\n# The main asynchronous function that will run the loop\\nasync def main():\\n    print(\"Starting the application...\")\\n\\n    # Schedule tasks to run concurrently\\n    task1 = asyncio.create_task(process_data())\\n    task2 = asyncio.create_task(fetch_data())\\n\\n    # Wait for all tasks to complete\\n    await task1\\n    await task2\\n\\n    print(\"Application finished.\")\\n\\n# Run the main function using asyncio\\'s event loop\\nif __name__ == \"__main__\":\\n    asyncio.run(main())\\n```\\n\\n### Explanation:\\n1. **Importing `asyncio`**: This library is essential for asynchronous programming in Python.\\n2. **Defining Asynchronous Functions**:\\n   - `process_data()`: Simulates some data processing work using a blocking sleep to mimic an I/O operation.\\n   - `fetch_data()`: Simulates fetching data from an API using another blocking sleep.\\n3. **Main Function (`main()`)**:\\n   - Prints a start message.\\n   - Creates tasks for both asynchronous functions using `asyncio.create_task`.\\n   - Waits for all tasks to complete using `await`.\\n4. **Running the Application**:\\n   - The application is executed by calling `asyncio.run(main())`, which starts the event loop and runs the `main` function.\\n\\nThis example demonstrates how you can structure an asynchronous Python application with a main body loop that handles multiple concurrent tasks efficiently.'"
      ]
     },
     "execution_count": 10,
     "metadata": {},
     "output_type": "execute_result"
    }
   ],
   "source": [
    "response"
   ]
  },
  {
   "cell_type": "code",
   "execution_count": null,
   "metadata": {},
   "outputs": [
    {
     "data": {
      "text/plain": [
       "['Certainly! Below is a Python application that uses an asynchronous `main` body loop. This example demonstrates how you can structure your code to use asynchronous programming using the `asyncio` library.',\n",
       " '',\n",
       " '```python',\n",
       " 'import asyncio',\n",
       " '',\n",
       " '# Define an asynchronous function for simulating some work (e.g., processing data)',\n",
       " 'async def process_data():',\n",
       " '    print(\"Processing data...\")',\n",
       " '    await asyncio.sleep(1)  # Simulate a blocking operation with sleep',\n",
       " '    print(\"Data processed\")',\n",
       " '',\n",
       " '# Define another asynchronous function for fetching data (e.g., from an API)',\n",
       " 'async def fetch_data():',\n",
       " '    print(\"Fetching data...\")',\n",
       " '    await asyncio.sleep(2)  # Simulate a longer blocking operation with sleep',\n",
       " '    print(\"Data fetched\")',\n",
       " '',\n",
       " '# The main asynchronous function that will run the loop',\n",
       " 'async def main():',\n",
       " '    print(\"Starting the application...\")',\n",
       " '',\n",
       " '    # Schedule tasks to run concurrently',\n",
       " '    task1 = asyncio.create_task(process_data())',\n",
       " '    task2 = asyncio.create_task(fetch_data())',\n",
       " '',\n",
       " '    # Wait for all tasks to complete',\n",
       " '    await task1',\n",
       " '    await task2',\n",
       " '',\n",
       " '    print(\"Application finished.\")',\n",
       " '',\n",
       " \"# Run the main function using asyncio's event loop\",\n",
       " 'if __name__ == \"__main__\":',\n",
       " '    asyncio.run(main())',\n",
       " '```',\n",
       " '',\n",
       " '### Explanation:',\n",
       " '1. **Importing `asyncio`**: This library is essential for asynchronous programming in Python.',\n",
       " '2. **Defining Asynchronous Functions**:',\n",
       " '   - `process_data()`: Simulates some data processing work using a blocking sleep to mimic an I/O operation.',\n",
       " '   - `fetch_data()`: Simulates fetching data from an API using another blocking sleep.',\n",
       " '3. **Main Function (`main()`)**:',\n",
       " '   - Prints a start message.',\n",
       " '   - Creates tasks for both asynchronous functions using `asyncio.create_task`.',\n",
       " '   - Waits for all tasks to complete using `await`.',\n",
       " '4. **Running the Application**:',\n",
       " '   - The application is executed by calling `asyncio.run(main())`, which starts the event loop and runs the `main` function.',\n",
       " '',\n",
       " 'This example demonstrates how you can structure an asynchronous Python application with a main body loop that handles multiple concurrent tasks efficiently.']"
      ]
     },
     "execution_count": 12,
     "metadata": {},
     "output_type": "execute_result"
    }
   ],
   "source": [
    "response.splitlines()"
   ]
  },
  {
   "cell_type": "code",
   "execution_count": null,
   "metadata": {},
   "outputs": [],
   "source": []
  }
 ],
 "metadata": {
  "kernelspec": {
   "display_name": "venv",
   "language": "python",
   "name": "python3"
  },
  "language_info": {
   "codemirror_mode": {
    "name": "ipython",
    "version": 3
   },
   "file_extension": ".py",
   "mimetype": "text/x-python",
   "name": "python",
   "nbconvert_exporter": "python",
   "pygments_lexer": "ipython3",
   "version": "3.11.8"
  }
 },
 "nbformat": 4,
 "nbformat_minor": 2
}

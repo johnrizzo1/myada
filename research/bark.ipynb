{
 "cells": [
  {
   "cell_type": "code",
   "execution_count": null,
   "metadata": {
    "ExecuteTime": {
     "end_time": "2024-12-01T22:36:48.764723Z",
     "start_time": "2024-12-01T22:35:28.519385Z"
    }
   },
   "outputs": [],
   "source": [
    "import torch.backends.cuda\n",
    "# https://github.com/suno-ai/bark\n",
    "from transformers import AutoProcessor, BarkModel\n",
    "\n",
    "processor = AutoProcessor.from_pretrained(\"suno/bark\")\n",
    "model = BarkModel.from_pretrained(\"suno/bark\")\n",
    "inputs = processor(\"Hello, [laugh] my dog is cute\", voice_preset=\"v2/en_speaker_6\")\n",
    "audio_array = model.generate(**inputs)\n",
    "\n",
    "if not torch.cuda.is_available():\n",
    "   print(\"Torch is not built with cuda\")\n",
    "   audio_array = audio_array.cpu().numpy().squeeze()\n",
    "else:\n",
    "   audio_array = audio_array.cuda().numpy().squeeze()"
   ]
  },
  {
   "cell_type": "code",
   "execution_count": null,
   "metadata": {},
   "outputs": [],
   "source": [
    "from IPython.display import Audio\n",
    "\n",
    "sample_rate = model.generation_config.sample_rate\n",
    "Audio(audio_array, rate=sample_rate)"
   ]
  }
 ],
 "metadata": {
  "kernelspec": {
   "display_name": "ada",
   "language": "python",
   "name": "python3"
  },
  "language_info": {
   "codemirror_mode": {
    "name": "ipython",
    "version": 3
   },
   "file_extension": ".py",
   "mimetype": "text/x-python",
   "name": "python",
   "nbconvert_exporter": "python",
   "pygments_lexer": "ipython3",
   "version": "3.12.2"
  }
 },
 "nbformat": 4,
 "nbformat_minor": 2
}

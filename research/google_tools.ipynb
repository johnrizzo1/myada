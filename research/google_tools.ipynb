{
 "cells": [
  {
   "cell_type": "code",
   "execution_count": 1,
   "metadata": {},
   "outputs": [],
   "source": [
    "from llama_index.agent.openai import OpenAIAgent\n",
    "import openai"
   ]
  },
  {
   "cell_type": "code",
   "execution_count": 2,
   "metadata": {},
   "outputs": [],
   "source": [
    "from llama_index.tools.google import GmailToolSpec\n",
    "from llama_index.tools.google import GoogleCalendarToolSpec\n",
    "from llama_index.tools.google import GoogleSearchToolSpec\n",
    "# from llama_index.tools.wikipedia import WikipediaToolSpec\n",
    "import os\n",
    "from dotenv import load_dotenv\n",
    "\n",
    "load_dotenv()\n",
    "\n",
    "gmail_tools = GmailToolSpec().to_tool_list()\n",
    "gcal_tools = GoogleCalendarToolSpec().to_tool_list()\n",
    "gsearch_tools = GoogleSearchToolSpec(key=os.getenv('GOOGLE_SEARCH_API_KEY'), engine=\"engine\").to_tool_list()\n",
    "# wikipedia_tools = WikipediaToolSpec().to_tool_list()"
   ]
  },
  {
   "cell_type": "code",
   "execution_count": null,
   "metadata": {},
   "outputs": [],
   "source": [
    "for tool in [*gmail_tools, *gcal_tools, *gsearch_tools]: #, *wikipedia_tools]:\n",
    "    print(tool.metadata.name)\n",
    "    print(tool.metadata.description)"
   ]
  },
  {
   "cell_type": "code",
   "execution_count": null,
   "metadata": {},
   "outputs": [],
   "source": [
    "# from llama_index.tools.tool_spec.load_and_search.base import LoadAndSearchToolSpec\n",
    "from llama_index.core.tools.tool_spec.load_and_search import ( LoadAndSearchToolSpec,)\n",
    "\n",
    "print(\"Wrapping \" + gsearch_tools[0].metadata.name)\n",
    "gsearch_load_and_search_tools = LoadAndSearchToolSpec.from_defaults(\n",
    "    gsearch_tools[0],\n",
    ").to_tool_list()\n",
    "\n",
    "print(\"Wrapping gmail \" + gmail_tools[0].metadata.name)\n",
    "gmail_load_and_search_tools = LoadAndSearchToolSpec.from_defaults(\n",
    "    gmail_tools[0],\n",
    ").to_tool_list()\n",
    "\n",
    "print(\"Wrapping google calendar \" + gcal_tools[0].metadata.name)\n",
    "gcal_load_and_search_tools = LoadAndSearchToolSpec.from_defaults(\n",
    "    gcal_tools[0],\n",
    ").to_tool_list()\n",
    "\n",
    "# print(\"Wrapping wikipedia\" + wikipedia_tools[0].metadata.name)\n",
    "# wikipedia_load_and_search_tools = LoadAndSearchToolSpec.from_defaults(\n",
    "#     wikipedia_tools[0],\n",
    "# )"
   ]
  },
  {
   "cell_type": "code",
   "execution_count": 5,
   "metadata": {},
   "outputs": [],
   "source": [
    "all_tools = [\n",
    "    *gsearch_load_and_search_tools,\n",
    "    *gmail_load_and_search_tools,\n",
    "    *gcal_load_and_search_tools,\n",
    "    # *wikipedia_load_and_search_tools,\n",
    "    *gcal_tools[1::],\n",
    "    *gmail_tools[1::],\n",
    "    *gsearch_tools[1::],\n",
    "    # *wikipedia_tools[1::],\n",
    "]"
   ]
  },
  {
   "cell_type": "code",
   "execution_count": 6,
   "metadata": {},
   "outputs": [],
   "source": [
    "agent = OpenAIAgent.from_tools(all_tools, verbose=True)"
   ]
  },
  {
   "cell_type": "code",
   "execution_count": null,
   "metadata": {},
   "outputs": [],
   "source": [
    "agent.chat(\n",
    "  # \"search google and find the email address for a dentist in toronto near bloor and dufferin\"\n",
    "  \"search google and find the phone number for a dentist in ridgewood near east ridgewood avenue\"\n",
    ")"
   ]
  },
  {
   "cell_type": "code",
   "execution_count": null,
   "metadata": {},
   "outputs": [],
   "source": [
    "agent.chat(\"What does google return for that search\")"
   ]
  },
  {
   "cell_type": "code",
   "execution_count": null,
   "metadata": {},
   "outputs": [],
   "source": [
    "agent.chat(\"write an email to send to john@johnrizzo.net asking if we can meet tomorrow at 2pm\")"
   ]
  },
  {
   "cell_type": "code",
   "execution_count": 10,
   "metadata": {},
   "outputs": [],
   "source": [
    "# agent.chat(\"send an email to nonsleepr@gmail.com with the subject let's meet on Friday and the body this is the first email I've Ada has sent on my behalf.\")"
   ]
  },
  {
   "cell_type": "code",
   "execution_count": null,
   "metadata": {},
   "outputs": [],
   "source": [
    "# agent.chat(\"What do I have on my calendar for the day\")"
   ]
  },
  {
   "cell_type": "code",
   "execution_count": 17,
   "metadata": {},
   "outputs": [
    {
     "name": "stdout",
     "output_type": "stream",
     "text": [
      "Added user message to memory: How many emails have I received today\n",
      "=== Calling Function ===\n",
      "Calling function: load_data with args: {}\n",
      "Got output: Error: <HttpError 403 when requesting https://www.googleapis.com/calendar/v3/calendars/primary/events?timeMin=2024-10-30T00%3A00%3A00.000000Z&maxResults=100&singleEvents=true&orderBy=startTime&alt=json returned \"Request had insufficient authentication scopes.\". Details: \"[{'message': 'Insufficient Permission', 'domain': 'global', 'reason': 'insufficientPermissions'}]\">\n",
      "========================\n",
      "\n"
     ]
    },
    {
     "data": {
      "text/plain": [
       "AgentChatResponse(response='I encountered an error while trying to access your email. It seems there is an issue with the authentication scopes. You may need to adjust the permissions to allow access to your email messages.', sources=[ToolOutput(content='Error: <HttpError 403 when requesting https://www.googleapis.com/calendar/v3/calendars/primary/events?timeMin=2024-10-30T00%3A00%3A00.000000Z&maxResults=100&singleEvents=true&orderBy=startTime&alt=json returned \"Request had insufficient authentication scopes.\". Details: \"[{\\'message\\': \\'Insufficient Permission\\', \\'domain\\': \\'global\\', \\'reason\\': \\'insufficientPermissions\\'}]\">', tool_name='load_data', raw_input={'kwargs': {}}, raw_output=<HttpError 403 when requesting https://www.googleapis.com/calendar/v3/calendars/primary/events?timeMin=2024-10-30T00%3A00%3A00.000000Z&maxResults=100&singleEvents=true&orderBy=startTime&alt=json returned \"Request had insufficient authentication scopes.\". Details: \"[{'message': 'Insufficient Permission', 'domain': 'global', 'reason': 'insufficientPermissions'}]\">, is_error=False)], source_nodes=[], is_dummy_stream=False, metadata=None)"
      ]
     },
     "execution_count": 17,
     "metadata": {},
     "output_type": "execute_result"
    }
   ],
   "source": [
    "agent.chat(\"How many emails have I received today\")"
   ]
  },
  {
   "cell_type": "code",
   "execution_count": null,
   "metadata": {},
   "outputs": [],
   "source": []
  }
 ],
 "metadata": {
  "kernelspec": {
   "display_name": "venv",
   "language": "python",
   "name": "python3"
  },
  "language_info": {
   "codemirror_mode": {
    "name": "ipython",
    "version": 3
   },
   "file_extension": ".py",
   "mimetype": "text/x-python",
   "name": "python",
   "nbconvert_exporter": "python",
   "pygments_lexer": "ipython3",
   "version": "3.11.8"
  }
 },
 "nbformat": 4,
 "nbformat_minor": 2
}

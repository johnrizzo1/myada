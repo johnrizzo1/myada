{
 "cells": [
  {
   "cell_type": "code",
   "id": "276778116c5378f1",
   "metadata": {
    "ExecuteTime": {
     "end_time": "2024-12-03T21:06:05.941347Z",
     "start_time": "2024-12-03T21:06:05.929548Z"
    }
   },
   "source": [
    "import asyncio\n",
    "import websockets\n",
    "import os\n",
    "from dotenv import load_dotenv\n",
    "\n",
    "# Load environment variables from .env file\n",
    "load_dotenv()"
   ],
   "outputs": [
    {
     "data": {
      "text/plain": [
       "True"
      ]
     },
     "execution_count": 1,
     "metadata": {},
     "output_type": "execute_result"
    }
   ],
   "execution_count": 1
  },
  {
   "metadata": {
    "ExecuteTime": {
     "end_time": "2024-12-03T21:06:07.447601Z",
     "start_time": "2024-12-03T21:06:07.443468Z"
    }
   },
   "cell_type": "code",
   "source": [
    "async def test_realtime_api_connection():\n",
    "    # Retrieve your API key from the environment variables\n",
    "    api_key = os.getenv(\"OPENAI_API_KEY\")\n",
    "    if not api_key:\n",
    "        print(\"Please set the OPENAI_API_KEY environment variable in your .env file.\")\n",
    "        return\n",
    "\n",
    "    # Define the WebSocket URL with the appropriate model\n",
    "    # Replace 'gpt-4' with the correct model name if necessary\n",
    "    url = \"wss://api.openai.com/v1/realtime?model=gpt-4\"\n",
    "\n",
    "    # Set the required headers\n",
    "    headers = {\n",
    "        \"Authorization\": f\"Bearer {api_key}\",\n",
    "        \"OpenAI-Beta\": \"realtime=v1\",\n",
    "    }\n",
    "\n",
    "    # Attempt to establish the WebSocket connection\n",
    "    try:\n",
    "        async with websockets.connect(url, extra_headers=headers) as websocket:\n",
    "            print(\"Connected to the server.\")\n",
    "    except websockets.InvalidStatusCode as e:\n",
    "        print(f\"Failed to connect: {e}\")\n",
    "        if e.status_code == 403:\n",
    "            print(\"HTTP 403 Forbidden: Access denied.\")\n",
    "            print(\"You may not have access to the Realtime API.\")\n",
    "        else:\n",
    "            print(f\"HTTP {e.status_code}\")\n",
    "    except Exception as e:\n",
    "        print(f\"An unexpected error occurred: {e}\")"
   ],
   "id": "db9246f9aa61791d",
   "outputs": [],
   "execution_count": 2
  },
  {
   "metadata": {
    "collapsed": true,
    "ExecuteTime": {
     "end_time": "2024-12-03T21:06:36.750883Z",
     "start_time": "2024-12-03T21:06:36.748828Z"
    }
   },
   "cell_type": "code",
   "source": [
    "# asyncio.run(test_realtime_api_connection())\n",
    "test_realtime_api_connection()"
   ],
   "id": "initial_id",
   "outputs": [
    {
     "data": {
      "text/plain": [
       "<coroutine object test_realtime_api_connection at 0x1071a7a40>"
      ]
     },
     "execution_count": 4,
     "metadata": {},
     "output_type": "execute_result"
    }
   ],
   "execution_count": 4
  }
 ],
 "metadata": {
  "kernelspec": {
   "display_name": "Python 3",
   "language": "python",
   "name": "python3"
  },
  "language_info": {
   "codemirror_mode": {
    "name": "ipython",
    "version": 2
   },
   "file_extension": ".py",
   "mimetype": "text/x-python",
   "name": "python",
   "nbconvert_exporter": "python",
   "pygments_lexer": "ipython2",
   "version": "2.7.6"
  }
 },
 "nbformat": 4,
 "nbformat_minor": 5
}
